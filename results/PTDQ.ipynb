{
 "cells": [
  {
   "cell_type": "code",
   "execution_count": 1,
   "metadata": {},
   "outputs": [],
   "source": [
    "import torch, time\n",
    "import torch.nn as nn\n",
    "import torch.optim as optim\n",
    "\n",
    "from src.utils import *\n",
    "from src.override_resnet import *\n",
    "\n",
    "class Args: \n",
    "    \"\"\"Main function for training ResNet model.\n",
    "\n",
    "    Args:\n",
    "        --num_layers (int): number of layers\n",
    "        --dataset (str): name of the dataset\n",
    "        --lr (float): learning rate\n",
    "        --momentum (float): momentum\n",
    "        --batch_size (int): batch size\n",
    "        --num_epochs (int): number of epochs\n",
    "        --save_every (int): save model every n epochs\n",
    "        --qat (bool): Enable Quantization Aware Training\n",
    "        --only_eval (bool): only evaluation mode\n",
    "        --verbose (bool): print mini-batch loss and accuracy\n",
    "\n",
    "\n",
    "    Returns:\n",
    "        None.\n",
    "    \"\"\"\n",
    "    num_layers = 50\n",
    "    dataset = \"ImageNet\"\n",
    "    lr = 0.001\n",
    "    momentum = 0.9\n",
    "    batch_size = 128\n",
    "    num_epochs = 10\n",
    "    save_every = 1\n",
    "    qat = True\n",
    "    only_eval = True\n",
    "    verbose = True\n",
    "    qat_method = \"dynamic\"\n",
    "\n",
    "\n",
    "\n",
    "args = Args()\n"
   ]
  },
  {
   "cell_type": "code",
   "execution_count": 2,
   "metadata": {},
   "outputs": [],
   "source": [
    "device = \"cpu\""
   ]
  },
  {
   "cell_type": "code",
   "execution_count": 3,
   "metadata": {},
   "outputs": [],
   "source": [
    "model = resnet50_quan(\n",
    "    weights=pretrained_weights_mapping[args.num_layers]\n",
    ").to(device)\n",
    "\n"
   ]
  },
  {
   "cell_type": "code",
   "execution_count": 4,
   "metadata": {},
   "outputs": [],
   "source": [
    "# check_accuracy(model=model, device=\"cpu\", batch_size=25)"
   ]
  },
  {
   "cell_type": "code",
   "execution_count": 5,
   "metadata": {},
   "outputs": [],
   "source": [
    "quantized_model = torch.quantization.quantize_dynamic(\n",
    "    model, {torch.nn.Conv2d, torch.nn.Linear}, dtype=torch.qint8\n",
    ")\n",
    "model = quantized_model"
   ]
  },
  {
   "cell_type": "code",
   "execution_count": 6,
   "metadata": {},
   "outputs": [
    {
     "name": "stdout",
     "output_type": "stream",
     "text": [
      "Elapsed time:  44 ms\n",
      "Size (MB): 96.383452\n"
     ]
    },
    {
     "name": "stderr",
     "output_type": "stream",
     "text": [
      " 25%|██▍       | 499/2000 [06:43<20:13,  1.24it/s]"
     ]
    },
    {
     "name": "stdout",
     "output_type": "stream",
     "text": [
      "Eval Loss: 1.2482, Eval Acc: 85.63%\n"
     ]
    },
    {
     "name": "stderr",
     "output_type": "stream",
     "text": [
      "\n"
     ]
    },
    {
     "data": {
      "text/plain": [
       "(1.248218575835228, 85.632)"
      ]
     },
     "execution_count": 6,
     "metadata": {},
     "output_type": "execute_result"
    }
   ],
   "source": [
    "check_accuracy(model=model, device=\"cpu\", batch_size=25)"
   ]
  },
  {
   "cell_type": "code",
   "execution_count": null,
   "metadata": {},
   "outputs": [],
   "source": []
  }
 ],
 "metadata": {
  "kernelspec": {
   "display_name": "py312",
   "language": "python",
   "name": "python3"
  },
  "language_info": {
   "codemirror_mode": {
    "name": "ipython",
    "version": 3
   },
   "file_extension": ".py",
   "mimetype": "text/x-python",
   "name": "python",
   "nbconvert_exporter": "python",
   "pygments_lexer": "ipython3",
   "version": "3.12.1"
  }
 },
 "nbformat": 4,
 "nbformat_minor": 2
}
