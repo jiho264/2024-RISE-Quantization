{
 "cells": [
  {
   "cell_type": "code",
   "execution_count": 1,
   "metadata": {},
   "outputs": [],
   "source": [
    "import torch, time, copy\n",
    "import matplotlib.pyplot as plt\n",
    "import numpy as np\n",
    "import torch.nn as nn\n",
    "import torch.optim as optim\n",
    "from torch.quantization import prepare, convert\n",
    "from src.utils import *\n",
    "from src.override_resnet import *\n",
    "\n",
    "\n",
    "class HistSaverPerObserver(object):\n",
    "\n",
    "    def __init__(\n",
    "        self, name:str, hist: torch.Tensor, max_val: torch.Tensor, min_val: torch.Tensor\n",
    "    ):\n",
    "        assert len(hist) != 0\n",
    "        self.name = name\n",
    "        self.hist = hist\n",
    "        self.max_val = max_val\n",
    "        self.min_val = min_val\n",
    "        self.bin = len(hist)\n",
    "\n",
    "    def save(self, hist):\n",
    "        self.hist.append(hist)\n",
    "\n",
    "    def printinfo(self):\n",
    "        print(f\"min: {self.min_val}, max: {self.max_val}, bin: {self.bin}\")\n",
    "\n",
    "    def showhist(self, downsampling_rate=0):\n",
    "        copy_hist = copy.deepcopy(self.hist)\n",
    "        if downsampling_rate > 0:\n",
    "            for i in range(len(copy_hist)):\n",
    "                if i % downsampling_rate == 0:\n",
    "                    copy_hist[i : i + downsampling_rate - 1].numel()\n",
    "                    # print(i, i + downsampling_rate-1)\n",
    "\n",
    "            copy_hist = copy_hist[0::downsampling_rate]\n",
    "\n",
    "        # method 1\n",
    "        plt.scatter(range(len(copy_hist)), copy_hist, s=0.3)\n",
    "        print(f\"len : {len(copy_hist)}\")\n",
    "\n",
    "        # plt.hist\n",
    "        plt.title(self.name)\n",
    "        plt.yscale(\"log\")\n",
    "        plt.xlabel(\"Activation value\")\n",
    "        # plt.xticks(np.arange(0, self.max_val, step=100))\n",
    "        plt.ylabel(\"Frequency\")\n",
    "        plt.show()\n",
    "\n",
    "    # def find_n_percentile(self, n):\n",
    "    #     total = torch.sum(self.hist).item()\n",
    "    #     cSum = torch.cumsum(self.hist, dim=0)\n",
    "    #     print(f\"total: {total}\")\n",
    "    #     print(f\"n: {n}\")\n",
    "    #     print(f\"cSum: {cSum}\")\n",
    "    #     return"
   ]
  },
  {
   "cell_type": "code",
   "execution_count": 2,
   "metadata": {},
   "outputs": [
    {
     "name": "stdout",
     "output_type": "stream",
     "text": [
      "layer1.0.through | QConfig(activation=functools.partial(<class 'torch.ao.quantization.observer.HistogramObserver'>, dtype=torch.quint8, bins=4096, reduce_range=True){}, weight=None)\n"
     ]
    },
    {
     "name": "stderr",
     "output_type": "stream",
     "text": [
      "/home/lee/miniconda3/envs/py312/lib/python3.12/site-packages/torch/ao/quantization/observer.py:220: UserWarning: Please use quant_min and quant_max to specify the range for observers.                     reduce_range will be deprecated in a future release of PyTorch.\n",
      "  warnings.warn(\n"
     ]
    }
   ],
   "source": [
    "\n",
    "\n",
    "model = resnet50_quan(weights=pretrained_weights_mapping[50])\n",
    "model.to(\"cuda\")\n",
    "model.eval()\n",
    "\n",
    "# set fuse ############################################################\n",
    "model = fuse_ALL(model)\n",
    "\n",
    "for name, module in model.named_modules():\n",
    "    if len(name) > 2 and name[-7:] == \"through\":\n",
    "\n",
    "        module.qconfig = torch.quantization.QConfig(\n",
    "            activation=torch.quantization.HistogramObserver.with_args(\n",
    "                dtype=torch.quint8,bins=4096, reduce_range=True\n",
    "            ),\n",
    "            weight=None,\n",
    "        )\n",
    "        print(f\"{name} | {module.qconfig}\")\n",
    "        break\n",
    "\n",
    "\n",
    "prepare(model, inplace=True)\n",
    "\n",
    "# calibrate the model ############################################################\n",
    "criterion = nn.CrossEntropyLoss()\n",
    "train_loader, _ = GetDataset(\n",
    "    dataset_name=\"ImageNet\",\n",
    "    device=\"cuda\",\n",
    "    root=\"data\",\n",
    "    batch_size=256,\n",
    "    num_workers=8,\n",
    ")"
   ]
  },
  {
   "cell_type": "code",
   "execution_count": 3,
   "metadata": {},
   "outputs": [
    {
     "name": "stderr",
     "output_type": "stream",
     "text": [
      "  0%|          | 1/5005 [00:03<5:27:46,  3.93s/it]"
     ]
    },
    {
     "name": "stdout",
     "output_type": "stream",
     "text": [
      "(0.9676284193992615, 91.015625)\n",
      "layer1.0.through\n"
     ]
    },
    {
     "name": "stderr",
     "output_type": "stream",
     "text": [
      "\n"
     ]
    }
   ],
   "source": [
    "num_of_iter = 1\n",
    "print(SingleEpochEval(model, train_loader, criterion, \"cuda\", num_of_iter))\n",
    "\n",
    "# for name, module in model.named_modules():\n",
    "#     print(name, module)\n",
    "ListOfHistSaverPerObserver = list()\n",
    "for name, module in model.named_modules():\n",
    "    if (\n",
    "        len(name) > 2\n",
    "        and name[-7:] == \"through\"\n",
    "        and hasattr(module, \"activation_post_process\")\n",
    "    ):\n",
    "        print(f\"{name}\")\n",
    "        ListOfHistSaverPerObserver.append(\n",
    "            HistSaverPerObserver(\n",
    "                name=name,\n",
    "                hist=module.activation_post_process.histogram.to(\"cpu\"),\n",
    "                max_val=module.activation_post_process.max_val.to(\"cpu\"),\n",
    "                min_val=module.activation_post_process.min_val.to(\"cpu\"),\n",
    "            )\n",
    "        )\n",
    "        break"
   ]
  },
  {
   "cell_type": "code",
   "execution_count": 4,
   "metadata": {},
   "outputs": [
    {
     "name": "stdout",
     "output_type": "stream",
     "text": [
      "min: 0.0, max: 33.28083419799805, bin: 4096\n",
      "len : 4096\n"
     ]
    },
    {
     "data": {
      "image/png": "[encoded data removed]",
      "text/plain": [
       "<Figure size 640x480 with 1 Axes>"
      ]
     },
     "metadata": {},
     "output_type": "display_data"
    }
   ],
   "source": [
    "ListOfHistSaverPerObserver[-1].printinfo()\n",
    "\n",
    "ListOfHistSaverPerObserver[-1].showhist(downsampling_rate=1)\n"
   ]
  },
  {
   "cell_type": "code",
   "execution_count": 5,
   "metadata": {},
   "outputs": [
    {
     "name": "stdout",
     "output_type": "stream",
     "text": [
      "4096\n",
      "total: 205520880.0\n",
      "cSum: tensor([8.7295e+07, 8.7698e+07, 8.8102e+07,  ..., 2.0552e+08, 2.0552e+08,\n",
      "        2.0552e+08]), torch.Size([4096])\n"
     ]
    }
   ],
   "source": [
    "_hist = ListOfHistSaverPerObserver[-1].hist\n",
    "print(len(_hist))\n",
    "\n",
    "total = torch.sum(_hist).item()\n",
    "cSum = torch.cumsum(_hist, dim=0)\n",
    "print(f\"total: {total}\")\n",
    "print(f\"cSum: {cSum}, {cSum.shape}\")"
   ]
  },
  {
   "cell_type": "code",
   "execution_count": 7,
   "metadata": {},
   "outputs": [
    {
     "name": "stdout",
     "output_type": "stream",
     "text": [
      "379\n",
      "608\n",
      "893\n",
      "1269\n",
      "1715\n"
     ]
    }
   ],
   "source": [
    "for i in range(len(cSum)):\n",
    "    if cSum[i].item() > total * 0.9525:\n",
    "        print(i)\n",
    "        break\n",
    "for i in range(len(cSum)):\n",
    "    if cSum[i].item() > total * 0.99:\n",
    "        print(i)\n",
    "        break\n",
    "for i in range(len(cSum)):\n",
    "    if cSum[i].item() > total * 0.999:\n",
    "        print(i)\n",
    "        break\n",
    "for i in range(len(cSum)):\n",
    "    if cSum[i].item() > total * 0.9999:\n",
    "        print(i)\n",
    "        break\n",
    "for i in range(len(cSum)):\n",
    "    if cSum[i].item() > total * 0.99999:\n",
    "        print(i)\n",
    "        break"
   ]
  },
  {
   "cell_type": "code",
   "execution_count": null,
   "metadata": {},
   "outputs": [],
   "source": []
  }
 ],
 "metadata": {
  "kernelspec": {
   "display_name": "py312",
   "language": "python",
   "name": "python3"
  },
  "language_info": {
   "codemirror_mode": {
    "name": "ipython",
    "version": 3
   },
   "file_extension": ".py",
   "mimetype": "text/x-python",
   "name": "python",
   "nbconvert_exporter": "python",
   "pygments_lexer": "ipython3",
   "version": "3.12.1"
  }
 },
 "nbformat": 4,
 "nbformat_minor": 2
}
