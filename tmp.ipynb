{
 "cells": [
  {
   "cell_type": "code",
   "execution_count": 1,
   "metadata": {},
   "outputs": [],
   "source": [
    "import torch\n",
    "from torch.utils.mobile_optimizer import optimize_for_mobile\n",
    "\n",
    "\n",
    "class AnnotatedConvBnReLUModel(torch.nn.Module):\n",
    "    def __init__(self):\n",
    "        super(AnnotatedConvBnReLUModel, self).__init__()\n",
    "        self.conv = torch.nn.Conv2d(3, 5, 3, bias=False).to(dtype=torch.float)\n",
    "        self.bn = torch.nn.BatchNorm2d(5).to(dtype=torch.float)\n",
    "        self.relu = torch.nn.ReLU(inplace=True)\n",
    "        self.quant = torch.quantization.QuantStub()\n",
    "        self.dequant = torch.quantization.DeQuantStub()\n",
    "\n",
    "    def forward(self, x):\n",
    "        x = x.contiguous(memory_format=torch.channels_last)\n",
    "        x = self.quant(x)\n",
    "        x = self.conv(x)\n",
    "        x = self.bn(x)\n",
    "        x = self.relu(x)\n",
    "        x = self.dequant(x)\n",
    "        return x"
   ]
  },
  {
   "cell_type": "code",
   "execution_count": 2,
   "metadata": {},
   "outputs": [
    {
     "name": "stdout",
     "output_type": "stream",
     "text": [
      "AnnotatedConvBnReLUModel(\n",
      "  (conv): Conv2d(3, 5, kernel_size=(3, 3), stride=(1, 1), bias=False)\n",
      "  (bn): BatchNorm2d(5, eps=1e-05, momentum=0.1, affine=True, track_running_stats=True)\n",
      "  (relu): ReLU(inplace=True)\n",
      "  (quant): QuantStub()\n",
      "  (dequant): DeQuantStub()\n",
      ")\n",
      "AnnotatedConvBnReLUModel(\n",
      "  (conv): Conv2d(3, 5, kernel_size=(3, 3), stride=(1, 1), bias=False)\n",
      "  (bn): BNReLU2d(\n",
      "    (0): BatchNorm2d(5, eps=1e-05, momentum=0.1, affine=True, track_running_stats=True)\n",
      "    (1): ReLU(inplace=True)\n",
      "  )\n",
      "  (relu): Identity()\n",
      "  (quant): QuantStub()\n",
      "  (dequant): DeQuantStub()\n",
      ")\n"
     ]
    },
    {
     "name": "stderr",
     "output_type": "stream",
     "text": [
      "/home/lee/miniconda3/envs/py312/lib/python3.12/site-packages/torch/ao/quantization/observer.py:1263: UserWarning: must run observer before calling calculate_qparams.                                    Returning default scale and zero point \n",
      "  warnings.warn(\n"
     ]
    }
   ],
   "source": [
    "model = AnnotatedConvBnReLUModel()\n",
    "print(model)\n",
    "\n",
    "\n",
    "def prepare_save(model, fused):\n",
    "    model.qconfig = torch.quantization.get_default_qconfig(\"qnnpack\")\n",
    "    torch.quantization.prepare(model, inplace=True)\n",
    "    torch.quantization.convert(model, inplace=True)\n",
    "    torchscript_model = torch.jit.script(model)\n",
    "    torchscript_model_optimized = optimize_for_mobile(torchscript_model)\n",
    "    torch.jit.save(\n",
    "        torchscript_model_optimized, \"model.pt\" if not fused else \"model_fused.pt\"\n",
    "    )\n",
    "\n",
    "\n",
    "prepare_save(model, False)\n",
    "\n",
    "model = AnnotatedConvBnReLUModel()\n",
    "model_fused = torch.quantization.fuse_modules(model, [[\"bn\", \"relu\"]], inplace=False)\n",
    "print(model_fused)\n",
    "\n",
    "prepare_save(model_fused, True)"
   ]
  },
  {
   "cell_type": "code",
   "execution_count": null,
   "metadata": {},
   "outputs": [],
   "source": [
    "# git clone --recursive https://github.com/pytorch/pytorch\n",
    "# cd pytorch\n",
    "# git submodule update --init --recursive\n",
    "# BUILD_PYTORCH_MOBILE=1 ANDROID_ABI=arm64-v8a ./scripts/build_android.sh -DBUILD_BINARY=ON"
   ]
  },
  {
   "cell_type": "code",
   "execution_count": null,
   "metadata": {},
   "outputs": [],
   "source": []
  }
 ],
 "metadata": {
  "kernelspec": {
   "display_name": "py312",
   "language": "python",
   "name": "python3"
  },
  "language_info": {
   "codemirror_mode": {
    "name": "ipython",
    "version": 3
   },
   "file_extension": ".py",
   "mimetype": "text/x-python",
   "name": "python",
   "nbconvert_exporter": "python",
   "pygments_lexer": "ipython3",
   "version": "3.12.1"
  }
 },
 "nbformat": 4,
 "nbformat_minor": 2
}
