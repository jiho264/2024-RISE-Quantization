{
 "cells": [
  {
   "cell_type": "code",
   "execution_count": 1,
   "metadata": {},
   "outputs": [],
   "source": [
    "import torch, time, copy\n",
    "import torch.nn as nn\n",
    "import torch.optim as optim\n",
    "from torch.quantization import prepare, convert\n",
    "from src.utils import *\n",
    "from src.override_resnet import *\n",
    "import matplotlib.pyplot as plt\n",
    "\n",
    "def fuse_ALL(model) -> nn.Module:\n",
    "    SingleTimeFlag = False\n",
    "    for m in model.modules():\n",
    "        if m.__class__.__name__ == ResNet_quan.__name__:\n",
    "            if SingleTimeFlag == True:\n",
    "                raise ValueError(\"ResNet_quan is already fused\")\n",
    "            SingleTimeFlag = True\n",
    "            torch.quantization.fuse_modules(\n",
    "                m,\n",
    "                [\"conv1\", \"bn1\", \"relu\"],\n",
    "                inplace=True,\n",
    "            )\n",
    "\n",
    "        if type(m) == BottleNeck_quan:\n",
    "\n",
    "            torch.quantization.fuse_modules(\n",
    "                m,\n",
    "                [\n",
    "                    [\"conv1\", \"bn1\", \"relu1\"],\n",
    "                    [\"conv2\", \"bn2\", \"relu2\"],\n",
    "                    [\"conv3\", \"bn3\"],\n",
    "                ],\n",
    "                inplace=True,\n",
    "            )\n",
    "            if m.downsample is not None:\n",
    "                torch.quantization.fuse_modules(\n",
    "                    m.downsample,\n",
    "                    [\"0\", \"1\"],\n",
    "                    inplace=True,\n",
    "                )\n",
    "    return model"
   ]
  },
  {
   "cell_type": "code",
   "execution_count": 2,
   "metadata": {},
   "outputs": [],
   "source": [
    "device = \"cpu\"\n",
    "model = resnet50(weights=pretrained_weights_mapping[50])\n",
    "model.to(device)\n",
    "model.eval()\n",
    "\n",
    "# set fuse ############################################################\n",
    "model = fuse_ALL(model)\n",
    "\n",
    "model.fc.qconfig = torch.quantization.QConfig(\n",
    "    activation=torch.quantization.RecordingObserver.with_args(dtype=torch.qint8),\n",
    "    weight=None,\n",
    ")\n",
    "\n",
    "# model.fc.qconfig.activation()\n",
    "\n",
    "_= prepare(model, inplace=True)\n"
   ]
  },
  {
   "cell_type": "code",
   "execution_count": 3,
   "metadata": {},
   "outputs": [
    {
     "name": "stderr",
     "output_type": "stream",
     "text": [
      "  0%|          | 4/40037 [00:06<18:41:08,  1.68s/it]\n"
     ]
    }
   ],
   "source": [
    "\n",
    "# calibrate the model ############################################################\n",
    "criterion = nn.CrossEntropyLoss()\n",
    "train_loader, _ = GetDataset(\n",
    "    dataset_name=\"ImageNet\",\n",
    "    device=device,\n",
    "    root=\"data\",\n",
    "    batch_size=32,\n",
    "    num_workers=8,\n",
    ")\n",
    "\n",
    "\n",
    "limit = 5\n",
    "with torch.no_grad():\n",
    "    for images, _ in tqdm.tqdm(train_loader):\n",
    "        images = images.to(device)\n",
    "        _ = model(images)\n",
    "        \n",
    "        limit -= 1\n",
    "        if limit == 0:\n",
    "            break"
   ]
  },
  {
   "cell_type": "code",
   "execution_count": 4,
   "metadata": {},
   "outputs": [
    {
     "name": "stdout",
     "output_type": "stream",
     "text": [
      "fc | QConfig(activation=functools.partial(<class 'torch.ao.quantization.observer.RecordingObserver'>, dtype=torch.qint8){}, weight=None)\n"
     ]
    }
   ],
   "source": [
    "for name, module in model.named_modules():\n",
    "    if hasattr(module, \"qconfig\"):\n",
    "        if module.qconfig is not None:\n",
    "            print(f\"{name} | {module.qconfig}\")\n",
    "        "
   ]
  },
  {
   "cell_type": "code",
   "execution_count": 5,
   "metadata": {},
   "outputs": [
    {
     "data": {
      "text/plain": [
       "[tensor([[-0.1203,  0.1233,  0.0336,  ..., -0.2036, -0.0235, -0.0132],\n",
       "         [-0.3115, -0.1353, -0.1271,  ..., -0.4849, -0.3095, -0.3258],\n",
       "         [-0.0828,  0.0466,  0.1666,  ..., -0.2024,  0.2056,  0.1820],\n",
       "         ...,\n",
       "         [-0.0240, -0.3219, -0.0908,  ..., -0.1654, -0.1901, -0.7518],\n",
       "         [-0.7953,  0.0513,  0.3039,  ..., -0.3154,  0.0264,  0.3953],\n",
       "         [ 0.0808, -0.2136, -0.6095,  ...,  0.3736,  0.2438, -0.0453]]),\n",
       " tensor([[-0.3249, -0.4925, -0.1859,  ..., -0.5560, -0.2646, -0.5556],\n",
       "         [ 0.1056,  0.1925,  0.6054,  ..., -0.1301, -0.1398, -0.2341],\n",
       "         [ 0.4224, -0.0696,  0.1104,  ..., -0.3242, -0.2162, -0.1029],\n",
       "         ...,\n",
       "         [-0.5123, -0.5479, -0.4831,  ..., -0.3540, -0.1401,  0.5338],\n",
       "         [ 2.9835,  0.0136, -0.1299,  ..., -0.1464,  0.3950, -0.5696],\n",
       "         [-0.0163,  0.0565, -0.2216,  ...,  0.8426, -0.3228, -0.4415]]),\n",
       " tensor([[-0.3127, -0.0443, -0.1951,  ..., -0.7393,  0.1579,  0.3965],\n",
       "         [ 0.1357, -0.0416,  0.1382,  ...,  0.1556, -0.2041, -0.0309],\n",
       "         [-0.4185, -0.5062, -0.3687,  ..., -0.0635,  0.0693,  0.6068],\n",
       "         ...,\n",
       "         [-0.2115, -0.1506,  0.1878,  ..., -0.1447, -0.2301,  0.0151],\n",
       "         [-0.3105,  0.1128, -0.1721,  ..., -0.1125, -0.0572, -0.4320],\n",
       "         [ 0.0093, -0.2602, -0.1537,  ...,  0.4025, -0.0634, -0.1057]]),\n",
       " tensor([[-1.5547e-01, -2.0609e-01, -1.0308e-01,  ...,  6.6535e+00,\n",
       "          -1.2508e-01,  9.6446e-02],\n",
       "         [ 2.6314e-01, -1.1449e-01, -1.1101e+00,  ..., -9.1682e-01,\n",
       "           2.7483e-01,  8.4922e-01],\n",
       "         [ 2.8849e+00, -2.3181e-01,  1.3089e+00,  ...,  6.8700e-01,\n",
       "           2.3035e-03,  4.7518e-02],\n",
       "         ...,\n",
       "         [-6.0959e-02,  1.9517e-01,  1.5275e-01,  ..., -3.6999e-01,\n",
       "          -1.1362e-01, -3.6098e-01],\n",
       "         [ 2.0117e-02,  1.4022e-01, -2.7497e-01,  ...,  4.8972e-02,\n",
       "           1.7624e-01, -9.8694e-02],\n",
       "         [ 2.4400e-01, -1.5575e-01, -9.4723e-03,  ..., -2.1737e-01,\n",
       "          -2.3245e-01,  6.6360e-01]]),\n",
       " tensor([[ 0.1209, -0.0345, -0.4035,  ..., -0.6736, -0.0316, -0.7821],\n",
       "         [-0.2980,  0.5798, -0.2473,  ...,  0.3651, -0.5863,  0.5126],\n",
       "         [ 0.1357,  0.9164,  0.3614,  ...,  0.0848, -0.2658, -0.0521],\n",
       "         ...,\n",
       "         [-0.0684,  0.0334,  0.3532,  ..., -0.0751,  0.0542,  0.0520],\n",
       "         [-0.0240, -0.1844,  0.0678,  ..., -0.1373, -0.2353,  0.0287],\n",
       "         [-0.2394, -0.1865,  0.0706,  ..., -0.0381, -0.5182, -0.1535]])]"
      ]
     },
     "execution_count": 5,
     "metadata": {},
     "output_type": "execute_result"
    }
   ],
   "source": [
    "dja = model.fc.activation_post_process.get_tensor_value()\n",
    "dja"
   ]
  },
  {
   "cell_type": "code",
   "execution_count": 19,
   "metadata": {},
   "outputs": [
    {
     "name": "stdout",
     "output_type": "stream",
     "text": [
      "(5, 32, 1000)\n"
     ]
    },
    {
     "data": {
      "image/png": "[encoded data removed]",
      "text/plain": [
       "<Figure size 640x480 with 1 Axes>"
      ]
     },
     "metadata": {},
     "output_type": "display_data"
    }
   ],
   "source": [
    "import numpy as np\n",
    "dja = np.array(dja)\n",
    "print(dja.shape)\n",
    "plt.hist(dja.flatten(), bins=2048)\n",
    "plt.show()"
   ]
  },
  {
   "cell_type": "code",
   "execution_count": null,
   "metadata": {},
   "outputs": [],
   "source": []
  }
 ],
 "metadata": {
  "kernelspec": {
   "display_name": "py312",
   "language": "python",
   "name": "python3"
  },
  "language_info": {
   "codemirror_mode": {
    "name": "ipython",
    "version": 3
   },
   "file_extension": ".py",
   "mimetype": "text/x-python",
   "name": "python",
   "nbconvert_exporter": "python",
   "pygments_lexer": "ipython3",
   "version": "3.12.1"
  }
 },
 "nbformat": 4,
 "nbformat_minor": 2
}
