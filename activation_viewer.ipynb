{
 "cells": [
  {
   "cell_type": "code",
   "execution_count": 1,
   "metadata": {},
   "outputs": [],
   "source": [
    "import torch, time, copy\n",
    "import torch.nn as nn\n",
    "import torch.optim as optim\n",
    "from torch.quantization import prepare, convert\n",
    "from src.utils import *\n",
    "from src.override_resnet import *\n",
    "import matplotlib.pyplot as plt\n",
    "import numpy as np"
   ]
  },
  {
   "cell_type": "code",
   "execution_count": null,
   "metadata": {},
   "outputs": [],
   "source": [
    "device = \"cpu\"\n",
    "model = resnet50_quan(weights=resnet.ResNet50_Weights.IMAGENET1K_V2)\n",
    "model.to(device)\n",
    "model.eval()\n",
    "\n",
    "# set fuse ############################################################\n",
    "model = fuse_ALL(model)\n",
    "\n",
    "\n",
    "for name, module in model.named_modules():\n",
    "    # print(name)\n",
    "    if hasattr(module, \"qconfig\"):\n",
    "        if module.qconfig is not None:\n",
    "            print(f\"{name} | {module.qconfig}\")\n",
    "    if len(name) > 2 and name[-7:] == \"act_obs\":\n",
    "\n",
    "        module.qconfig = torch.quantization.QConfig(\n",
    "            activation=torch.quantization.RecordingObserver.with_args(\n",
    "                dtype=torch.quint8\n",
    "            ),\n",
    "            weight=None,\n",
    "        )\n",
    "        print(f\"{name} | {module.qconfig}\")"
   ]
  },
  {
   "cell_type": "code",
   "execution_count": null,
   "metadata": {},
   "outputs": [],
   "source": [
    "prepare(model, inplace=True)"
   ]
  },
  {
   "cell_type": "code",
   "execution_count": null,
   "metadata": {},
   "outputs": [],
   "source": [
    "# calibrate the model ############################################################\n",
    "criterion = nn.CrossEntropyLoss()\n",
    "batch_size = 32\n",
    "train_loader, _ = GetDataset(\n",
    "    dataset_name=\"ImageNet\",\n",
    "    device=device,\n",
    "    root=\"data\",\n",
    "    batch_size=batch_size,\n",
    "    num_workers=8,\n",
    ")\n",
    "\n",
    "# nvidia paper == 1024 images\n",
    "print(SingleEpochEval(model, train_loader, criterion, device, limit=32))"
   ]
  },
  {
   "cell_type": "code",
   "execution_count": null,
   "metadata": {},
   "outputs": [],
   "source": [
    "for name, module in model.named_modules():\n",
    "    if (\n",
    "        len(name) > 2\n",
    "        and name[-7:] == \"act_obs\"\n",
    "        and hasattr(module, \"activation_post_process\")\n",
    "    ):\n",
    "        # if name == \"act_obs\":\n",
    "        print(f\"{name}\", end=\" \")\n",
    "        wns = module.activation_post_process.get_tensor_value()\n",
    "        wns = np.array(wns)\n",
    "        print(list(wns.shape))\n",
    "        cnt = 1\n",
    "        for i in list(wns.shape):\n",
    "            cnt *= i\n",
    "        wns = wns.flatten()\n",
    "        plt.hist(wns, bins=200)\n",
    "        tmp = cnt * 4 / 1024 / 1024, \"MB\"\n",
    "        plt.title(name + str(tmp))\n",
    "        plt.yscale(\"log\")\n",
    "        plt.xlabel(\"Activation value\")\n",
    "        plt.ylabel(\"Frequency\")\n",
    "        plt.show()"
   ]
  }
 ],
 "metadata": {
  "kernelspec": {
   "display_name": "py312",
   "language": "python",
   "name": "python3"
  },
  "language_info": {
   "codemirror_mode": {
    "name": "ipython",
    "version": 3
   },
   "file_extension": ".py",
   "mimetype": "text/x-python",
   "name": "python",
   "nbconvert_exporter": "python",
   "pygments_lexer": "ipython3",
   "version": "3.12.1"
  }
 },
 "nbformat": 4,
 "nbformat_minor": 2
}
